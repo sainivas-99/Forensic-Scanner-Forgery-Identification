{
 "cells": [
  {
   "cell_type": "markdown",
   "metadata": {
    "id": "FxGpHIJ3yKgc"
   },
   "source": [
    "**Forensic Scanner Identification Using CASIA Datasets**"
   ]
  },
  {
   "cell_type": "markdown",
   "metadata": {
    "id": "YCqeAHNDyWha"
   },
   "source": [
    "Datasets\n",
    "[CASIA2](https://drive.google.com/drive/folders/1p--NIVEPSBiQKGlrr_OrDydD1JXKoUTG?usp=sharing)\n",
    "[CASIA1](https://drive.google.com/drive/folders/1vnyghsrVytqNvAqCDnkx1409UCKodenu?usp=sharing)"
   ]
  },
  {
   "cell_type": "markdown",
   "metadata": {
    "id": "Bf8j6dsUzzCr"
   },
   "source": [
    "Mounting the Google Drive"
   ]
  },
  {
   "cell_type": "code",
   "execution_count": null,
   "metadata": {
    "id": "EFZq9UbgzyAY"
   },
   "outputs": [],
   "source": [
    "from google.colab import drive\n",
    "drive.mount('/content/drive')"
   ]
  },
  {
   "cell_type": "markdown",
   "metadata": {
    "id": "JRLewUyRvy81"
   },
   "source": [
    "**Importing the Packages**"
   ]
  },
  {
   "cell_type": "code",
   "execution_count": 6,
   "metadata": {
    "executionInfo": {
     "elapsed": 1070,
     "status": "ok",
     "timestamp": 1605640145395,
     "user": {
      "displayName": "Ramesh Ravindran",
      "photoUrl": "https://lh3.googleusercontent.com/a-/AOh14GhcjUie2zDWpQEXGBSui04ZAq0Nl9CR7dlOS1FcBg=s64",
      "userId": "08375370966839671912"
     },
     "user_tz": -330
    },
    "id": "aRk36EkImcY7"
   },
   "outputs": [],
   "source": [
    "import numpy as np\n",
    "import pandas as pd\n",
    "import os\n",
    "from PIL import Image\n",
    "from pylab import *\n",
    "from PIL import Image, ImageChops, ImageEnhance"
   ]
  },
  {
   "cell_type": "code",
   "execution_count": 7,
   "metadata": {
    "executionInfo": {
     "elapsed": 1126,
     "status": "ok",
     "timestamp": 1605640147307,
     "user": {
      "displayName": "Ramesh Ravindran",
      "photoUrl": "https://lh3.googleusercontent.com/a-/AOh14GhcjUie2zDWpQEXGBSui04ZAq0Nl9CR7dlOS1FcBg=s64",
      "userId": "08375370966839671912"
     },
     "user_tz": -330
    },
    "id": "gX3yqHozm33x"
   },
   "outputs": [],
   "source": [
    "import matplotlib.pyplot as plt\n",
    "%matplotlib inline\n",
    "\n",
    "np.random.seed(2)\n",
    "\n",
    "from sklearn.model_selection import train_test_split\n",
    "from sklearn.metrics import confusion_matrix\n",
    "import itertools\n",
    "\n",
    "from keras.utils.np_utils import to_categorical\n",
    "from keras.models import Sequential\n",
    "from keras.layers import Dense, Dropout, Flatten, Conv2D, MaxPool2D\n"
   ]
  },
  {
   "cell_type": "markdown",
   "metadata": {
    "id": "l6cleHUlv5Sp"
   },
   "source": [
    "Function to get list of images in folder path"
   ]
  },
  {
   "cell_type": "code",
   "execution_count": 8,
   "metadata": {
    "executionInfo": {
     "elapsed": 1269,
     "status": "ok",
     "timestamp": 1605640149890,
     "user": {
      "displayName": "Ramesh Ravindran",
      "photoUrl": "https://lh3.googleusercontent.com/a-/AOh14GhcjUie2zDWpQEXGBSui04ZAq0Nl9CR7dlOS1FcBg=s64",
      "userId": "08375370966839671912"
     },
     "user_tz": -330
    },
    "id": "U30ffDjTm-8H"
   },
   "outputs": [],
   "source": [
    "def get_imlist(path):\n",
    "    return [os.path.join(path,f) for f in os.listdir(path) if f.endswith('.jpg') or f.endswith('.png')]"
   ]
  },
  {
   "cell_type": "markdown",
   "metadata": {
    "id": "7Ozfl7TTwAPe"
   },
   "source": [
    "**Converting the images to Error Level Analysis**"
   ]
  },
  {
   "cell_type": "code",
   "execution_count": 9,
   "metadata": {
    "executionInfo": {
     "elapsed": 1159,
     "status": "ok",
     "timestamp": 1605640165232,
     "user": {
      "displayName": "Ramesh Ravindran",
      "photoUrl": "https://lh3.googleusercontent.com/a-/AOh14GhcjUie2zDWpQEXGBSui04ZAq0Nl9CR7dlOS1FcBg=s64",
      "userId": "08375370966839671912"
     },
     "user_tz": -330
    },
    "id": "9PmM88itnF5Y"
   },
   "outputs": [],
   "source": [
    "def convert_to_ela_image(path, quality):\n",
    "    filename = path\n",
    "    resaved_filename = 'tempresaved.jpg'\n",
    "    ELA_filename = 'tempela.png'\n",
    "    \n",
    "    im = Image.open(filename).convert('RGB')\n",
    "    im.save(resaved_filename, 'JPEG', quality = quality)\n",
    "    resaved_im = Image.open(resaved_filename)\n",
    "    \n",
    "    ela_im = ImageChops.difference(im, resaved_im)\n",
    "    \n",
    "    extrema = ela_im.getextrema()\n",
    "    max_diff = max([ex[1] for ex in extrema])\n",
    "    if max_diff == 0:\n",
    "        max_diff = 1\n",
    "    scale = 255.0 / max_diff\n",
    "    \n",
    "    ela_im = ImageEnhance.Brightness(ela_im).enhance(scale)\n",
    "    \n",
    "    return ela_im"
   ]
  },
  {
   "cell_type": "markdown",
   "metadata": {
    "id": "-y2rgmqt0gNa"
   },
   "source": [
    "Exploring the Image Data"
   ]
  },
  {
   "cell_type": "code",
   "execution_count": 10,
   "metadata": {
    "executionInfo": {
     "elapsed": 25630,
     "status": "ok",
     "timestamp": 1605640235822,
     "user": {
      "displayName": "Ramesh Ravindran",
      "photoUrl": "https://lh3.googleusercontent.com/a-/AOh14GhcjUie2zDWpQEXGBSui04ZAq0Nl9CR7dlOS1FcBg=s64",
      "userId": "08375370966839671912"
     },
     "user_tz": -330
    },
    "id": "GlxOeaGOnJs1"
   },
   "outputs": [],
   "source": [
    "from tqdm import tqdm\n",
    "path_original = '/content/drive/MyDrive/casia/CASIA2/Au/'\n",
    "path_tampered = '/content/drive/MyDrive/casia/CASIA2/Tp/'\n",
    "\n",
    "total_original = os.listdir(path_original)\n",
    "total_tampered = os.listdir(path_tampered)"
   ]
  },
  {
   "cell_type": "code",
   "execution_count": 11,
   "metadata": {
    "colab": {
     "base_uri": "https://localhost:8080/"
    },
    "executionInfo": {
     "elapsed": 2602,
     "status": "ok",
     "timestamp": 1605640253822,
     "user": {
      "displayName": "Ramesh Ravindran",
      "photoUrl": "https://lh3.googleusercontent.com/a-/AOh14GhcjUie2zDWpQEXGBSui04ZAq0Nl9CR7dlOS1FcBg=s64",
      "userId": "08375370966839671912"
     },
     "user_tz": -330
    },
    "id": "FZ1curwNnbdK",
    "outputId": "62dc0982-6986-4db5-a179-c92ec697892f"
   },
   "outputs": [
    {
     "name": "stderr",
     "output_type": "stream",
     "text": [
      "100%|██████████| 7492/7492 [00:01<00:00, 4775.73it/s]\n"
     ]
    }
   ],
   "source": [
    "images = []\n",
    "\n",
    "for file in tqdm(os.listdir(path_original)):\n",
    "    try:\n",
    "        if file.endswith('jpg'):\n",
    "            if int(os.stat(path_original + file).st_size) > 10000:\n",
    "                line = path_original + file  + ',0\\n'\n",
    "                images.append(line)\n",
    "    except:\n",
    "        print(path_original+file)"
   ]
  },
  {
   "cell_type": "code",
   "execution_count": 12,
   "metadata": {
    "colab": {
     "base_uri": "https://localhost:8080/"
    },
    "executionInfo": {
     "elapsed": 2235,
     "status": "ok",
     "timestamp": 1605640269711,
     "user": {
      "displayName": "Ramesh Ravindran",
      "photoUrl": "https://lh3.googleusercontent.com/a-/AOh14GhcjUie2zDWpQEXGBSui04ZAq0Nl9CR7dlOS1FcBg=s64",
      "userId": "08375370966839671912"
     },
     "user_tz": -330
    },
    "id": "UDDBRiLkngIB",
    "outputId": "5fc8a8c8-e18a-4784-f42d-6f3c9b06fb33"
   },
   "outputs": [
    {
     "name": "stderr",
     "output_type": "stream",
     "text": [
      "100%|██████████| 5124/5124 [00:01<00:00, 4494.88it/s]\n"
     ]
    }
   ],
   "source": [
    "for file in tqdm(os.listdir(path_tampered)):\n",
    "    try:\n",
    "        if file.endswith('jpg'):\n",
    "            if int(os.stat(path_tampered + file).st_size) > 10000:\n",
    "                    line = path_tampered + file + ',1\\n'\n",
    "                    images.append(line)\n",
    "        if file.endswith('tif'):\n",
    "            if int(os.stat(path_tampered + file).st_size) > 10000:\n",
    "                    line = path_tampered + file + ',1\\n'\n",
    "                    images.append(line)\n",
    "    except:\n",
    "          print(path_tampered+file)"
   ]
  },
  {
   "cell_type": "code",
   "execution_count": 13,
   "metadata": {
    "colab": {
     "base_uri": "https://localhost:8080/"
    },
    "executionInfo": {
     "elapsed": 768,
     "status": "ok",
     "timestamp": 1605640282204,
     "user": {
      "displayName": "Ramesh Ravindran",
      "photoUrl": "https://lh3.googleusercontent.com/a-/AOh14GhcjUie2zDWpQEXGBSui04ZAq0Nl9CR7dlOS1FcBg=s64",
      "userId": "08375370966839671912"
     },
     "user_tz": -330
    },
    "id": "zAlDIl5WnjeG",
    "outputId": "b2972ef2-94f9-4edd-8b63-6cf87afaa605"
   },
   "outputs": [
    {
     "name": "stderr",
     "output_type": "stream",
     "text": [
      "100%|██████████| 12389/12389 [00:00<00:00, 874183.78it/s]\n"
     ]
    }
   ],
   "source": [
    "image_name = []\n",
    "label = []\n",
    "for i in tqdm(range(len(images))):\n",
    "    image_name.append(images[i][0:-3])\n",
    "    label.append(images[i][-2])"
   ]
  },
  {
   "cell_type": "markdown",
   "metadata": {
    "id": "SiSqW1K_wZni"
   },
   "source": [
    "**Feature Extraction using Dataframe**"
   ]
  },
  {
   "cell_type": "code",
   "execution_count": 14,
   "metadata": {
    "executionInfo": {
     "elapsed": 1294,
     "status": "ok",
     "timestamp": 1605640309867,
     "user": {
      "displayName": "Ramesh Ravindran",
      "photoUrl": "https://lh3.googleusercontent.com/a-/AOh14GhcjUie2zDWpQEXGBSui04ZAq0Nl9CR7dlOS1FcBg=s64",
      "userId": "08375370966839671912"
     },
     "user_tz": -330
    },
    "id": "T89D8U2onn21"
   },
   "outputs": [],
   "source": [
    "dataset = pd.DataFrame({'image':image_name,'class_label':label})\n",
    "dataset.to_csv('/content/drive/MyDrive/casia/dataset.csv',index=False)\n",
    "dataset = pd.read_csv('/content/drive/MyDrive/casia/dataset.csv')"
   ]
  },
  {
   "cell_type": "code",
   "execution_count": 15,
   "metadata": {
    "executionInfo": {
     "elapsed": 1349,
     "status": "ok",
     "timestamp": 1605640332287,
     "user": {
      "displayName": "Ramesh Ravindran",
      "photoUrl": "https://lh3.googleusercontent.com/a-/AOh14GhcjUie2zDWpQEXGBSui04ZAq0Nl9CR7dlOS1FcBg=s64",
      "userId": "08375370966839671912"
     },
     "user_tz": -330
    },
    "id": "tr4Ut4ppntag"
   },
   "outputs": [],
   "source": [
    "X = []\n",
    "Y = []"
   ]
  },
  {
   "cell_type": "code",
   "execution_count": null,
   "metadata": {
    "colab": {
     "base_uri": "https://localhost:8080/"
    },
    "id": "RZ1VxP3BnyvW",
    "outputId": "f81f800c-bd96-4aef-97e6-8fd7872033c3"
   },
   "outputs": [
    {
     "name": "stderr",
     "output_type": "stream",
     "text": [
      "/usr/local/lib/python3.6/dist-packages/PIL/TiffImagePlugin.py:770: UserWarning: Possibly corrupt EXIF data.  Expecting to read 8 bytes but only got 2. Skipping tag 41487\n",
      "  \" Skipping tag %s\" % (size, len(data), tag)\n",
      "/usr/local/lib/python3.6/dist-packages/PIL/TiffImagePlugin.py:770: UserWarning: Possibly corrupt EXIF data.  Expecting to read 8 bytes but only got 0. Skipping tag 41988\n",
      "  \" Skipping tag %s\" % (size, len(data), tag)\n"
     ]
    }
   ],
   "source": [
    "for index, row in dataset.iterrows():\n",
    "    X.append(array(convert_to_ela_image(row[0], 90).resize((60, 60))).flatten() / 255.0)\n",
    "    Y.append(row[1])\n",
    "\n",
    "X = np.array(X)\n",
    "Y = to_categorical(Y, 2)"
   ]
  },
  {
   "cell_type": "code",
   "execution_count": null,
   "metadata": {
    "id": "-Hr4sUmYn0g6"
   },
   "outputs": [],
   "source": [
    "X = X.reshape(-1, 60, 60, 3)"
   ]
  },
  {
   "cell_type": "markdown",
   "metadata": {
    "id": "aLPnHz3YwfdM"
   },
   "source": [
    "Splitting  the Datas "
   ]
  },
  {
   "cell_type": "code",
   "execution_count": null,
   "metadata": {
    "id": "rxfWRFZsn72V"
   },
   "outputs": [],
   "source": [
    "X_train, X_val, Y_train, Y_val = train_test_split(X, Y, test_size = 0.2, random_state=5)\n",
    "X = X.reshape(-1,1,1,1)"
   ]
  },
  {
   "cell_type": "markdown",
   "metadata": {
    "id": "hoXxl3PzwkaK"
   },
   "source": [
    "**Deploying the CNN**"
   ]
  },
  {
   "cell_type": "code",
   "execution_count": null,
   "metadata": {
    "id": "X8ioIpIIuR6f"
   },
   "outputs": [],
   "source": [
    "model = Sequential()\n",
    "\n",
    "model.add(Conv2D(filters = 16, kernel_size = (5,5),padding = 'valid',activation ='relu', input_shape = (60,60,3)))\n",
    "model.add(Conv2D(filters = 16, kernel_size = (5,5),padding = 'valid',activation ='relu'))\n",
    "model.add(MaxPool2D(pool_size=(2,2)))\n",
    "model.add(Dropout(0.25))\n",
    "model.add(Flatten())\n",
    "model.add(Dense(60, activation = \"relu\"))\n",
    "model.add(Dropout(0.5))\n",
    "model.add(Dense(2, activation = \"softmax\"))"
   ]
  },
  {
   "cell_type": "code",
   "execution_count": null,
   "metadata": {
    "id": "ntjzevn6uUhy"
   },
   "outputs": [],
   "source": [
    "model.summary()"
   ]
  },
  {
   "cell_type": "code",
   "execution_count": null,
   "metadata": {
    "id": "9503qIEluWFc"
   },
   "outputs": [],
   "source": [
    "from keras.optimizers import Adam\n",
    "optimizer = Adam()\n",
    "model.compile(optimizer = optimizer , loss = \"categorical_crossentropy\", metrics=[\"accuracy\"])"
   ]
  },
  {
   "cell_type": "code",
   "execution_count": null,
   "metadata": {
    "id": "DAgoesizuYfY"
   },
   "outputs": [],
   "source": [
    "history = model.fit(X_train, Y_train, batch_size = 100, epochs = 5,validation_data = (X_val, Y_val), verbose = 2)"
   ]
  },
  {
   "cell_type": "markdown",
   "metadata": {
    "id": "f9ad8yY1wpvK"
   },
   "source": [
    "**Generating the Model File**"
   ]
  },
  {
   "cell_type": "code",
   "execution_count": null,
   "metadata": {
    "id": "25gdXbXzuhMO"
   },
   "outputs": [],
   "source": [
    "model.save('/content/drive/MyDrive/casia/detector.h5')"
   ]
  },
  {
   "cell_type": "markdown",
   "metadata": {
    "id": "zoj9VgY3wvWh"
   },
   "source": [
    "Precision And Re-call score for the Model"
   ]
  },
  {
   "cell_type": "code",
   "execution_count": null,
   "metadata": {
    "id": "-G4xSSKVui7v"
   },
   "outputs": [],
   "source": [
    "from sklearn import metrics\n",
    "y_pred = model.predict(X_val)\n",
    "y_pred = np.argmax(y_pred,axis = 1)\n",
    "Y_true = np.argmax(Y_val,axis = 1) \n",
    "\n",
    "score = metrics.precision_score(Y_true,y_pred, average= \"weighted\")\n",
    "print(\"Precision score: {}\".format(score))\n",
    "score = metrics.recall_score(Y_true, y_pred, average= \"weighted\")\n",
    "print(\"Recall score: {}\".format(score))\n",
    "score_f1 = metrics.f1_score(Y_true, y_pred, average= \"weighted\")\n",
    "print(\"F1 score: {}\".format(score_f1))"
   ]
  },
  {
   "cell_type": "code",
   "execution_count": null,
   "metadata": {
    "id": "0M-3kJn_unfW"
   },
   "outputs": [],
   "source": [
    "cm = confusion_matrix(Y_true, y_pred)\n",
    "print('Confusion matrix:\\n',cm)"
   ]
  },
  {
   "cell_type": "markdown",
   "metadata": {
    "id": "ClZ6r9pmw1Yv"
   },
   "source": [
    "Prediction With the Model for the input Image"
   ]
  },
  {
   "cell_type": "code",
   "execution_count": null,
   "metadata": {
    "id": "mtZrBU2RuphU"
   },
   "outputs": [],
   "source": [
    "path_original = '/content/drive/MyDrive/casia/CASIA1/Au/Au_ani_0001.jpg'\n",
    "path_tampered = '/content/drive/MyDrive/casia/CASIA1/Sp/Sp_D_CNN_A_ani0049_ani0084_0266.jpg'"
   ]
  },
  {
   "cell_type": "code",
   "execution_count": null,
   "metadata": {
    "id": "bf7fyEDnux3y"
   },
   "outputs": [],
   "source": [
    "orig_img = Image.open('/content/drive/MyDrive/casia/CASIA1/Sp/Sp_D_CNN_A_ani0049_ani0084_0266.jpg')\n",
    "display(orig_img)"
   ]
  },
  {
   "cell_type": "code",
   "execution_count": null,
   "metadata": {
    "id": "yQmRtMpXuyxS"
   },
   "outputs": [],
   "source": [
    "convert_to_ela_image('/content/drive/MyDrive/casia/CASIA1/Sp/Sp_D_CNN_A_ani0049_ani0084_0266.jpg',90)"
   ]
  },
  {
   "cell_type": "code",
   "execution_count": null,
   "metadata": {
    "id": "-QH6KjeYu0ug"
   },
   "outputs": [],
   "source": [
    "X_f = []"
   ]
  },
  {
   "cell_type": "code",
   "execution_count": null,
   "metadata": {
    "id": "wfw6WgDqu3N7"
   },
   "outputs": [],
   "source": [
    "X_f.append(np.array(convert_to_ela_image(path_tampered,90).resize((60, 60))).flatten() / 255.0)"
   ]
  },
  {
   "cell_type": "code",
   "execution_count": null,
   "metadata": {
    "id": "Tqviaj5du4-Y"
   },
   "outputs": [],
   "source": [
    "X_f = np.array(X_f)"
   ]
  },
  {
   "cell_type": "code",
   "execution_count": null,
   "metadata": {
    "id": "9ENCEhTvu6mh"
   },
   "outputs": [],
   "source": [
    "X_f = X_f.reshape(-1, 60, 60, 3)"
   ]
  },
  {
   "cell_type": "code",
   "execution_count": null,
   "metadata": {
    "id": "dQAWIQF7u8fc"
   },
   "outputs": [],
   "source": [
    "from keras.models import load_model\n",
    "model = load_model('/content/drive/MyDrive/casia/detector.h5')"
   ]
  },
  {
   "cell_type": "code",
   "execution_count": null,
   "metadata": {
    "id": "-fUU4AU2u-ai"
   },
   "outputs": [],
   "source": [
    "y_pred_test = model.predict(X_f)\n",
    "y_pred_test = np.argmax(y_pred_test,axis = 1)"
   ]
  },
  {
   "cell_type": "code",
   "execution_count": null,
   "metadata": {
    "id": "WT7Cy4-Wu_-H"
   },
   "outputs": [],
   "source": [
    "print(y_pred_test)"
   ]
  }
 ],
 "metadata": {
  "colab": {
   "authorship_tag": "ABX9TyMAwbaIKzKznR6UL5uG5Hea",
   "collapsed_sections": [],
   "mount_file_id": "1VOPivms3WZhXYe_gniPIC9OzW8biYXUP",
   "name": "main.ipynb",
   "provenance": []
  },
  "kernelspec": {
   "display_name": "Python 3",
   "language": "python",
   "name": "python3"
  },
  "language_info": {
   "codemirror_mode": {
    "name": "ipython",
    "version": 3
   },
   "file_extension": ".py",
   "mimetype": "text/x-python",
   "name": "python",
   "nbconvert_exporter": "python",
   "pygments_lexer": "ipython3",
   "version": "3.8.5"
  }
 },
 "nbformat": 4,
 "nbformat_minor": 1
}
